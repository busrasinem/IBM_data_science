{
 "cells": [
  {
   "cell_type": "markdown",
   "id": "2c94781d",
   "metadata": {},
   "source": [
    "# Data Science Tools and Ecosystem."
   ]
  },
  {
   "cell_type": "markdown",
   "id": "30506c11",
   "metadata": {},
   "source": [
    "In this notebook, Data Science Tools and Ecosystem are summarized."
   ]
  },
  {
   "cell_type": "markdown",
   "id": "20fad7d5",
   "metadata": {},
   "source": [
    "**Objectives:**\n",
    "\n",
    "- List popular languages for Data Science.\n",
    "- Explain the basic concepts of machine learning.\n",
    "- Showcase data visualization techniques.\n",
    "- Introduce best practices for data cleaning and preprocessing.\n",
    "- Discuss real-world data science applications."
   ]
  },
  {
   "cell_type": "markdown",
   "id": "1f33c723",
   "metadata": {},
   "source": [
    "Some of the popular languages that Data Scientists use are:\n",
    "ordered list"
   ]
  },
  {
   "cell_type": "markdown",
   "id": "fcbf8c01",
   "metadata": {},
   "source": [
    "1. Python\n",
    "2. R\n",
    "3. Julia"
   ]
  },
  {
   "cell_type": "markdown",
   "id": "efa48f82",
   "metadata": {},
   "source": [
    "Some of the commonly used libraries used by Data Scientists include:"
   ]
  },
  {
   "cell_type": "markdown",
   "id": "38bd7dea",
   "metadata": {},
   "source": [
    "# Ordered list\n",
    "\n",
    "1. **NumPy**: A basic library for numerical programming and data processing.\n",
    "2. **pandas**: A library used for data analysis and manipulation.\n",
    "3. **matplotlib**: A library used to create data visualization and plots.\n",
    "4. **Seaborn**: A data visualization library based on Matplotlib can transform rendering into higher level and attractive views.\n",
    "5. **scikit-learn**: A library used for machine development and data mining.\n",
    "6. **TensorFlow**: A popular library for deep learning and artificial intelligence applications.\n",
    "7. **PyTorch**: Another popular library for deep learning.\n",
    "8. **Keras**: A high-level deep learning API runs under TensorFlow or PyTorch.\n",
    "9. **StatsModels**: A library used to create and test statistical models.\n",
    "10. **SciPy**: A large library for scientific and technical calculations."
   ]
  },
  {
   "cell_type": "markdown",
   "id": "099b452d",
   "metadata": {},
   "source": [
    "| Data Science Tools |\n",
    "|--------------------|\n",
    "| Jupyter Notebook   |\n",
    "| RStudio            |\n",
    "| VSCode + Python    |"
   ]
  },
  {
   "cell_type": "markdown",
   "id": "50a3ad7a",
   "metadata": {},
   "source": [
    "### Below are a few examples of evaluating arithmetic expressions in Python.\n"
   ]
  },
  {
   "cell_type": "code",
   "execution_count": 2,
   "id": "d862b6e2",
   "metadata": {},
   "outputs": [
    {
     "data": {
      "text/plain": [
       "17"
      ]
     },
     "execution_count": 2,
     "metadata": {},
     "output_type": "execute_result"
    }
   ],
   "source": [
    "#This a simple arithmetic expression to mutiply then add integers.\n",
    "(3*4)+5"
   ]
  },
  {
   "cell_type": "code",
   "execution_count": 3,
   "id": "3c969b2e",
   "metadata": {},
   "outputs": [
    {
     "data": {
      "text/plain": [
       "3.3333333333333335"
      ]
     },
     "execution_count": 3,
     "metadata": {},
     "output_type": "execute_result"
    }
   ],
   "source": [
    "# This will convert 200 minutes to hours by dividing by 60.\n",
    "minutes = 200\n",
    "hours = minutes / 60\n",
    "hours"
   ]
  },
  {
   "cell_type": "markdown",
   "id": "c12009b5",
   "metadata": {},
   "source": [
    "## Author\n",
    "\n",
    "Busra Sinem Karadeniz"
   ]
  },
  {
   "cell_type": "code",
   "execution_count": null,
   "id": "9930104a",
   "metadata": {},
   "outputs": [],
   "source": []
  }
 ],
 "metadata": {
  "kernelspec": {
   "display_name": "Python 3 (ipykernel)",
   "language": "python",
   "name": "python3"
  },
  "language_info": {
   "codemirror_mode": {
    "name": "ipython",
    "version": 3
   },
   "file_extension": ".py",
   "mimetype": "text/x-python",
   "name": "python",
   "nbconvert_exporter": "python",
   "pygments_lexer": "ipython3",
   "version": "3.9.7"
  }
 },
 "nbformat": 4,
 "nbformat_minor": 5
}
